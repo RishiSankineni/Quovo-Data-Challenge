{
  "metadata": {
    "kernelspec": {
      "display_name": "Python 3",
      "language": "python",
      "name": "python3"
    },
    "language_info": {
      "codemirror_mode": {
        "name": "ipython",
        "version": 3
      },
      "file_extension": ".py",
      "mimetype": "text/x-python",
      "name": "python",
      "nbconvert_exporter": "python",
      "pygments_lexer": "ipython3",
      "version": "3.6.0"
    }
  },
  "nbformat": 4,
  "nbformat_minor": 0,
  "cells": [
    {
      "cell_type": "markdown",
      "source": "Trying to find where men lost the average life expectancy against women. ",
      "metadata": {}
    },
    {
      "cell_type": "code",
      "source": "import warnings\nwarnings.filterwarnings('ignore')\n\nimport pandas as pd\nimport matplotlib.pyplot as plt\nimport seaborn as sns\nimport numpy as np\nimport calendar\n%matplotlib inline",
      "execution_count": 1,
      "outputs": [],
      "metadata": {}
    },
    {
      "cell_type": "code",
      "source": "# load disease description for each Icd10Code\ndficd = pd.read_csv('../input/Icd10Code.csv')\n\ndataset =  pd.read_csv('../input/DeathRecords.csv', header=0)\nprint(len(dataset))",
      "execution_count": 2,
      "outputs": [
        {
          "name": "stdout",
          "output_type": "stream",
          "text": "2631171\n"
        }
      ],
      "metadata": {}
    },
    {
      "cell_type": "code",
      "source": "mannerofdeath = pd.read_csv('../input/MannerOfDeath.csv')",
      "execution_count": 3,
      "outputs": [],
      "metadata": {}
    },
    {
      "cell_type": "code",
      "source": "print(mannerofdeath)",
      "execution_count": 4,
      "outputs": [
        {
          "name": "stdout",
          "output_type": "stream",
          "text": "   Code            Description\n0     1               Accident\n1     2                Suicide\n2     3               Homicide\n3     4  Pending investigation\n4     5    Could not determine\n5     6         Self-Inflicted\n6     7                Natural\n7     0          Not specified\n"
        }
      ],
      "metadata": {}
    },
    {
      "cell_type": "code",
      "source": "#cleaning data with bad age death, bad days of the week and not natural deaths.\ndf = dataset[dataset.Age < 120][dataset.DayOfWeekOfDeath < 8][~dataset.MannerOfDeath.isin([1,2,3,6])]\nprint(len(df))",
      "execution_count": 5,
      "outputs": [
        {
          "name": "stdout",
          "output_type": "stream",
          "text": "2437935\n"
        }
      ],
      "metadata": {}
    },
    {
      "cell_type": "code",
      "source": "# number of deaths by sex\nprint('men deaths in the dataset:', len(df[df.Sex == 'M']))\nprint('women deaths in the dataset:', len(df[df.Sex == 'F']))",
      "execution_count": 6,
      "outputs": [
        {
          "name": "stdout",
          "output_type": "stream",
          "text": "men deaths in the dataset: 1200087\nwomen deaths in the dataset: 1237848\n"
        }
      ],
      "metadata": {}
    },
    {
      "cell_type": "code",
      "source": "print (df[df.Sex == 'M'].Age.mean())\nprint (df[df.Sex == 'F'].Age.mean())",
      "execution_count": 7,
      "outputs": [
        {
          "name": "stdout",
          "output_type": "stream",
          "text": "72.37584858431097\n77.52070690424026\n"
        }
      ],
      "metadata": {}
    },
    {
      "cell_type": "markdown",
      "source": "There are 5 years of difference in life expectancy between men a women in the US. The number of deaths are more or less the same between them.",
      "metadata": {}
    },
    {
      "cell_type": "code",
      "source": "plt.figure()\nplt.title('histogram of death vs age by sex', fontsize=18)\n_ = plt.hist(df[df.Sex == 'M'].Age.tolist(), 10, alpha=0.5, label='M')\n_ = plt.hist(df[df.Sex == 'F'].Age.tolist(), 10, alpha=0.5, label='F')\n_ = plt.legend()",
      "execution_count": 8,
      "outputs": [
        {
          "data": {
            "image/png": "[encoded data removed]",
            "text/plain": "<matplotlib.figure.Figure at 0x7fcf17ef1d30>"
          },
          "metadata": {},
          "output_type": "display_data"
        }
      ],
      "metadata": {}
    },
    {
      "cell_type": "markdown",
      "source": "it seems there are more difference in the 50s and 60s than in the 70s. Let's see that in numbers",
      "metadata": {}
    },
    {
      "cell_type": "code",
      "source": "malesDeaths  = df[df.Sex == 'M']\nfemaleDeaths = df[df.Sex == 'F']\n\nfor i in range(0, 10):\n    print(\"age between \",i*10,(i+1)*10,\"difference in deaths (men deaths - women deaths):\", len(malesDeaths[np.logical_and(malesDeaths.Age>i*10,malesDeaths.Age<(i+1)*10)])-len(femaleDeaths[np.logical_and(femaleDeaths.Age>i*10,femaleDeaths.Age<(i+1)*10)]))",
      "execution_count": 9,
      "outputs": [
        {
          "name": "stdout",
          "output_type": "stream",
          "text": "age between  0 10 difference in deaths (men deaths - women deaths): 2195\nage between  10 20 difference in deaths (men deaths - women deaths): 798\nage between  20 30 difference in deaths (men deaths - women deaths): 2479\nage between  30 40 difference in deaths (men deaths - women deaths): 3250\nage between  40 50 difference in deaths (men deaths - women deaths): 10719\nage between  50 60 difference in deaths (men deaths - women deaths): 43076\nage between  60 70 difference in deaths (men deaths - women deaths): 62734\nage between  70 80 difference in deaths (men deaths - women deaths): 35660\nage between  80 90 difference in deaths (men deaths - women deaths): -61873\nage between  90 100 difference in deaths (men deaths - women deaths): -120765\n"
        }
      ],
      "metadata": {}
    },
    {
      "cell_type": "markdown",
      "source": "## So the peak between men and women death difference is in their sixties. ",
      "metadata": {}
    },
    {
      "cell_type": "markdown",
      "source": "## Let's analyze what's happening in the 60s with men",
      "metadata": {}
    },
    {
      "cell_type": "code",
      "source": "malesDeaths60s=malesDeaths[malesDeaths.Age>=60][malesDeaths.Age<70]\ndficd.columns= ['Icd10Code', 'dx']\nmalesDeaths60s =  pd.merge(malesDeaths60s, dficd, how='left', on='Icd10Code')",
      "execution_count": 10,
      "outputs": [],
      "metadata": {}
    },
    {
      "cell_type": "code",
      "source": "print (\"number of men deaths in 60s\",len(malesDeaths60s))",
      "execution_count": 11,
      "outputs": [
        {
          "name": "stdout",
          "output_type": "stream",
          "text": "number of men deaths in 60s 232459\n"
        }
      ],
      "metadata": {}
    },
    {
      "cell_type": "code",
      "source": "men60counts = malesDeaths60s[['Icd10Code', 'Id']].groupby(['Icd10Code'], as_index=False).count()",
      "execution_count": 12,
      "outputs": [],
      "metadata": {}
    },
    {
      "cell_type": "code",
      "source": "most_common_causes = pd.merge(men60counts, dficd, how='left', on='Icd10Code')\nmost_common_causes = most_common_causes.sort_values(by=['Id'],ascending=False)\nmost_common_causes.head(15)",
      "execution_count": 13,
      "outputs": [
        {
          "data": {
            "text/html": "<div>\n<table border=\"1\" class=\"dataframe\">\n  <thead>\n    <tr style=\"text-align: right;\">\n      <th></th>\n      <th>Icd10Code</th>\n      <th>Id</th>\n      <th>dx</th>\n    </tr>\n  </thead>\n  <tbody>\n    <tr>\n      <th>237</th>\n      <td>C349</td>\n      <td>23961</td>\n      <td>Malignant neoplasm: Bronchus or lung, unspecified</td>\n    </tr>\n    <tr>\n      <th>864</th>\n      <td>I219</td>\n      <td>14724</td>\n      <td>Acute myocardial infarction, unspecified</td>\n    </tr>\n    <tr>\n      <th>869</th>\n      <td>I251</td>\n      <td>13862</td>\n      <td>Atherosclerotic heart disease</td>\n    </tr>\n    <tr>\n      <th>868</th>\n      <td>I250</td>\n      <td>9635</td>\n      <td>Atherosclerotic cardiovascular disease, so des...</td>\n    </tr>\n    <tr>\n      <th>1112</th>\n      <td>J449</td>\n      <td>9630</td>\n      <td>Chronic obstructive pulmonary disease, unspeci...</td>\n    </tr>\n    <tr>\n      <th>218</th>\n      <td>C259</td>\n      <td>6017</td>\n      <td>Malignant neoplasm: Pancreas, unspecified</td>\n    </tr>\n    <tr>\n      <th>197</th>\n      <td>C189</td>\n      <td>4977</td>\n      <td>Malignant neoplasm: Colon, unspecified</td>\n    </tr>\n    <tr>\n      <th>289</th>\n      <td>C61</td>\n      <td>4660</td>\n      <td>Malignant neoplasm of prostate</td>\n    </tr>\n    <tr>\n      <th>579</th>\n      <td>E149</td>\n      <td>4204</td>\n      <td>Unspecified diabetes mellitus: Without complic...</td>\n    </tr>\n    <tr>\n      <th>183</th>\n      <td>C159</td>\n      <td>3826</td>\n      <td>Malignant neoplasm: Oesophagus, unspecified</td>\n    </tr>\n    <tr>\n      <th>974</th>\n      <td>I64</td>\n      <td>3797</td>\n      <td>Stroke, not specified as haemorrhage or infarc...</td>\n    </tr>\n    <tr>\n      <th>851</th>\n      <td>I119</td>\n      <td>3676</td>\n      <td>Hypertensive heart disease without (congestive...</td>\n    </tr>\n    <tr>\n      <th>33</th>\n      <td>A419</td>\n      <td>3490</td>\n      <td>Sepsis, unspecified</td>\n    </tr>\n    <tr>\n      <th>354</th>\n      <td>C80</td>\n      <td>3403</td>\n      <td>Malignant neoplasm, without specification of site</td>\n    </tr>\n    <tr>\n      <th>1285</th>\n      <td>K746</td>\n      <td>3329</td>\n      <td>Other and unspecified cirrhosis of liver</td>\n    </tr>\n  </tbody>\n</table>\n</div>",
            "text/plain": "     Icd10Code     Id                                                 dx\n237       C349  23961  Malignant neoplasm: Bronchus or lung, unspecified\n864       I219  14724           Acute myocardial infarction, unspecified\n869       I251  13862                      Atherosclerotic heart disease\n868       I250   9635  Atherosclerotic cardiovascular disease, so des...\n1112      J449   9630  Chronic obstructive pulmonary disease, unspeci...\n218       C259   6017          Malignant neoplasm: Pancreas, unspecified\n197       C189   4977             Malignant neoplasm: Colon, unspecified\n289        C61   4660                     Malignant neoplasm of prostate\n579       E149   4204  Unspecified diabetes mellitus: Without complic...\n183       C159   3826        Malignant neoplasm: Oesophagus, unspecified\n974        I64   3797  Stroke, not specified as haemorrhage or infarc...\n851       I119   3676  Hypertensive heart disease without (congestive...\n33        A419   3490                                Sepsis, unspecified\n354        C80   3403  Malignant neoplasm, without specification of site\n1285      K746   3329           Other and unspecified cirrhosis of liver"
          },
          "execution_count": 13,
          "metadata": {},
          "output_type": "execute_result"
        }
      ],
      "metadata": {}
    },
    {
      "cell_type": "markdown",
      "source": "## Let's analyze what's happening in the 60s with women",
      "metadata": {}
    },
    {
      "cell_type": "code",
      "source": "femaleDeaths60s=femaleDeaths[femaleDeaths.Age>=60][femaleDeaths.Age<70]\ndficd.columns= ['Icd10Code', 'dx']\nfemaleDeaths60s =  pd.merge(femaleDeaths60s, dficd, how='left', on='Icd10Code')",
      "execution_count": 14,
      "outputs": [],
      "metadata": {}
    },
    {
      "cell_type": "code",
      "source": "print (\"number of women deaths in 60s\",len(femaleDeaths60s))",
      "execution_count": 15,
      "outputs": [
        {
          "name": "stdout",
          "output_type": "stream",
          "text": "number of women deaths in 60s 162882\n"
        }
      ],
      "metadata": {}
    },
    {
      "cell_type": "code",
      "source": "women60counts = femaleDeaths60s[['Icd10Code', 'Id']].groupby(['Icd10Code'], as_index=False).count()",
      "execution_count": 16,
      "outputs": [],
      "metadata": {}
    },
    {
      "cell_type": "code",
      "source": "most_common_causes = pd.merge(women60counts, dficd, how='left', on='Icd10Code')\nmost_common_causes = most_common_causes.sort_values(by=['Id'],ascending=False)\nmost_common_causes.head(15)",
      "execution_count": 17,
      "outputs": [
        {
          "data": {
            "text/html": "<div>\n<table border=\"1\" class=\"dataframe\">\n  <thead>\n    <tr style=\"text-align: right;\">\n      <th></th>\n      <th>Icd10Code</th>\n      <th>Id</th>\n      <th>dx</th>\n    </tr>\n  </thead>\n  <tbody>\n    <tr>\n      <th>213</th>\n      <td>C349</td>\n      <td>17648</td>\n      <td>Malignant neoplasm: Bronchus or lung, unspecified</td>\n    </tr>\n    <tr>\n      <th>260</th>\n      <td>C509</td>\n      <td>9778</td>\n      <td>Malignant neoplasm: Breast, unspecified</td>\n    </tr>\n    <tr>\n      <th>1058</th>\n      <td>J449</td>\n      <td>8833</td>\n      <td>Chronic obstructive pulmonary disease, unspeci...</td>\n    </tr>\n    <tr>\n      <th>821</th>\n      <td>I219</td>\n      <td>6700</td>\n      <td>Acute myocardial infarction, unspecified</td>\n    </tr>\n    <tr>\n      <th>825</th>\n      <td>I251</td>\n      <td>6117</td>\n      <td>Atherosclerotic heart disease</td>\n    </tr>\n    <tr>\n      <th>195</th>\n      <td>C259</td>\n      <td>4487</td>\n      <td>Malignant neoplasm: Pancreas, unspecified</td>\n    </tr>\n    <tr>\n      <th>269</th>\n      <td>C56</td>\n      <td>3686</td>\n      <td>Malignant neoplasm of ovary</td>\n    </tr>\n    <tr>\n      <th>824</th>\n      <td>I250</td>\n      <td>3539</td>\n      <td>Atherosclerotic cardiovascular disease, so des...</td>\n    </tr>\n    <tr>\n      <th>174</th>\n      <td>C189</td>\n      <td>3513</td>\n      <td>Malignant neoplasm: Colon, unspecified</td>\n    </tr>\n    <tr>\n      <th>32</th>\n      <td>A419</td>\n      <td>3099</td>\n      <td>Sepsis, unspecified</td>\n    </tr>\n    <tr>\n      <th>930</th>\n      <td>I64</td>\n      <td>2750</td>\n      <td>Stroke, not specified as haemorrhage or infarc...</td>\n    </tr>\n    <tr>\n      <th>545</th>\n      <td>E149</td>\n      <td>2573</td>\n      <td>Unspecified diabetes mellitus: Without complic...</td>\n    </tr>\n    <tr>\n      <th>328</th>\n      <td>C80</td>\n      <td>2502</td>\n      <td>Malignant neoplasm, without specification of site</td>\n    </tr>\n    <tr>\n      <th>1035</th>\n      <td>J189</td>\n      <td>2160</td>\n      <td>Pneumonia, unspecified</td>\n    </tr>\n    <tr>\n      <th>1217</th>\n      <td>K746</td>\n      <td>1949</td>\n      <td>Other and unspecified cirrhosis of liver</td>\n    </tr>\n  </tbody>\n</table>\n</div>",
            "text/plain": "     Icd10Code     Id                                                 dx\n213       C349  17648  Malignant neoplasm: Bronchus or lung, unspecified\n260       C509   9778            Malignant neoplasm: Breast, unspecified\n1058      J449   8833  Chronic obstructive pulmonary disease, unspeci...\n821       I219   6700           Acute myocardial infarction, unspecified\n825       I251   6117                      Atherosclerotic heart disease\n195       C259   4487          Malignant neoplasm: Pancreas, unspecified\n269        C56   3686                        Malignant neoplasm of ovary\n824       I250   3539  Atherosclerotic cardiovascular disease, so des...\n174       C189   3513             Malignant neoplasm: Colon, unspecified\n32        A419   3099                                Sepsis, unspecified\n930        I64   2750  Stroke, not specified as haemorrhage or infarc...\n545       E149   2573  Unspecified diabetes mellitus: Without complic...\n328        C80   2502  Malignant neoplasm, without specification of site\n1035      J189   2160                             Pneumonia, unspecified\n1217      K746   1949           Other and unspecified cirrhosis of liver"
          },
          "execution_count": 17,
          "metadata": {},
          "output_type": "execute_result"
        }
      ],
      "metadata": {}
    },
    {
      "cell_type": "markdown",
      "source": "----------",
      "metadata": {}
    },
    {
      "cell_type": "markdown",
      "source": "## Conclusion",
      "metadata": {}
    },
    {
      "cell_type": "markdown",
      "source": "Although there is no clear factor for the difference in the 60s mortality between men and women, seems like heart diseases are the main group that adds deaths to the men side and not to women side. \n\n- men died because of heart diseases:         38221. \n- women died because of heart diseases :   16356.\n\n\nOther common illnesses are just more agressive with men than women. But it is worth to say that women have their our illnesses group but their life have more chances to pass to the 70s.",
      "metadata": {}
    }
  ]
}