{
 "cells": [
  {
   "cell_type": "code",
   "execution_count": 1,
   "metadata": {
    "collapsed": false
   },
   "outputs": [
    {
     "name": "stdout",
     "output_type": "stream",
     "text": [
      " The data set has 30593 rows\n",
      " The data set has 96 rows\n"
     ]
    }
   ],
   "source": [
    "import pandas as pd ## Import all the packages\n",
    "import matplotlib.pyplot as plt\n",
    "import numpy as np\n",
    "import seaborn as sns\n",
    "\n",
    "color = sns.color_palette() ## seaborn palette for beautiful plots\n",
    "df = pd.read_csv(\"/Users/Rishi/Desktop/timeseries_events.csv\") ## \n",
    "df1 = pd.read_csv(\"/Users/Rishi/Desktop/timeseries_users.csv\") ## \n",
    "print(\" The data set has\", len(df), \"rows\") \n",
    "print(\" The data set has\", len(df1), \"rows\")\n"
   ]
  },
  {
   "cell_type": "code",
   "execution_count": 7,
   "metadata": {
    "collapsed": false
   },
   "outputs": [
    {
     "data": {
      "text/html": [
       "<div>\n",
       "<table border=\"1\" class=\"dataframe\">\n",
       "  <thead>\n",
       "    <tr style=\"text-align: right;\">\n",
       "      <th></th>\n",
       "      <th>user_id</th>\n",
       "      <th>event_date</th>\n",
       "    </tr>\n",
       "  </thead>\n",
       "  <tbody>\n",
       "    <tr>\n",
       "      <th>0</th>\n",
       "      <td>0</td>\n",
       "      <td>2015-02-26 00:00:00</td>\n",
       "    </tr>\n",
       "    <tr>\n",
       "      <th>1</th>\n",
       "      <td>0</td>\n",
       "      <td>2015-03-10 00:00:00</td>\n",
       "    </tr>\n",
       "    <tr>\n",
       "      <th>2</th>\n",
       "      <td>0</td>\n",
       "      <td>2015-03-30 00:00:00</td>\n",
       "    </tr>\n",
       "    <tr>\n",
       "      <th>3</th>\n",
       "      <td>0</td>\n",
       "      <td>2015-02-15 00:00:00</td>\n",
       "    </tr>\n",
       "    <tr>\n",
       "      <th>4</th>\n",
       "      <td>0</td>\n",
       "      <td>2015-02-18 00:00:00</td>\n",
       "    </tr>\n",
       "  </tbody>\n",
       "</table>\n",
       "</div>"
      ],
      "text/plain": [
       "   user_id           event_date\n",
       "0        0  2015-02-26 00:00:00\n",
       "1        0  2015-03-10 00:00:00\n",
       "2        0  2015-03-30 00:00:00\n",
       "3        0  2015-02-15 00:00:00\n",
       "4        0  2015-02-18 00:00:00"
      ]
     },
     "execution_count": 7,
     "metadata": {},
     "output_type": "execute_result"
    }
   ],
   "source": [
    "df.head()"
   ]
  },
  {
   "cell_type": "code",
   "execution_count": 8,
   "metadata": {
    "collapsed": false
   },
   "outputs": [
    {
     "data": {
      "text/html": [
       "<div>\n",
       "<table border=\"1\" class=\"dataframe\">\n",
       "  <thead>\n",
       "    <tr style=\"text-align: right;\">\n",
       "      <th></th>\n",
       "      <th>age</th>\n",
       "      <th>gender</th>\n",
       "      <th>user_id</th>\n",
       "    </tr>\n",
       "  </thead>\n",
       "  <tbody>\n",
       "    <tr>\n",
       "      <th>0</th>\n",
       "      <td>51</td>\n",
       "      <td>f</td>\n",
       "      <td>0</td>\n",
       "    </tr>\n",
       "    <tr>\n",
       "      <th>1</th>\n",
       "      <td>49</td>\n",
       "      <td>f</td>\n",
       "      <td>1</td>\n",
       "    </tr>\n",
       "    <tr>\n",
       "      <th>2</th>\n",
       "      <td>35</td>\n",
       "      <td>m</td>\n",
       "      <td>2</td>\n",
       "    </tr>\n",
       "    <tr>\n",
       "      <th>3</th>\n",
       "      <td>63</td>\n",
       "      <td>m</td>\n",
       "      <td>3</td>\n",
       "    </tr>\n",
       "    <tr>\n",
       "      <th>4</th>\n",
       "      <td>27</td>\n",
       "      <td>f</td>\n",
       "      <td>4</td>\n",
       "    </tr>\n",
       "  </tbody>\n",
       "</table>\n",
       "</div>"
      ],
      "text/plain": [
       "   age gender  user_id\n",
       "0   51      f        0\n",
       "1   49      f        1\n",
       "2   35      m        2\n",
       "3   63      m        3\n",
       "4   27      f        4"
      ]
     },
     "execution_count": 8,
     "metadata": {},
     "output_type": "execute_result"
    }
   ],
   "source": [
    "df1.head()"
   ]
  },
  {
   "cell_type": "markdown",
   "metadata": {},
   "source": [
    "## EDA"
   ]
  },
  {
   "cell_type": "code",
   "execution_count": 10,
   "metadata": {
    "collapsed": true
   },
   "outputs": [],
   "source": [
    "event_date = df['event_date'].astype('datetime64[ns]') ## convert object to datatime format "
   ]
  },
  {
   "cell_type": "code",
   "execution_count": 13,
   "metadata": {
    "collapsed": false
   },
   "outputs": [
    {
     "data": {
      "text/html": [
       "<div>\n",
       "<table border=\"1\" class=\"dataframe\">\n",
       "  <thead>\n",
       "    <tr style=\"text-align: right;\">\n",
       "      <th></th>\n",
       "      <th>user_id</th>\n",
       "      <th>event_date</th>\n",
       "      <th>age</th>\n",
       "      <th>gender</th>\n",
       "    </tr>\n",
       "  </thead>\n",
       "  <tbody>\n",
       "    <tr>\n",
       "      <th>0</th>\n",
       "      <td>0</td>\n",
       "      <td>2015-02-26 00:00:00</td>\n",
       "      <td>51.0</td>\n",
       "      <td>f</td>\n",
       "    </tr>\n",
       "    <tr>\n",
       "      <th>1</th>\n",
       "      <td>0</td>\n",
       "      <td>2015-03-10 00:00:00</td>\n",
       "      <td>51.0</td>\n",
       "      <td>f</td>\n",
       "    </tr>\n",
       "    <tr>\n",
       "      <th>2</th>\n",
       "      <td>0</td>\n",
       "      <td>2015-03-30 00:00:00</td>\n",
       "      <td>51.0</td>\n",
       "      <td>f</td>\n",
       "    </tr>\n",
       "    <tr>\n",
       "      <th>3</th>\n",
       "      <td>0</td>\n",
       "      <td>2015-02-15 00:00:00</td>\n",
       "      <td>51.0</td>\n",
       "      <td>f</td>\n",
       "    </tr>\n",
       "    <tr>\n",
       "      <th>4</th>\n",
       "      <td>0</td>\n",
       "      <td>2015-02-18 00:00:00</td>\n",
       "      <td>51.0</td>\n",
       "      <td>f</td>\n",
       "    </tr>\n",
       "  </tbody>\n",
       "</table>\n",
       "</div>"
      ],
      "text/plain": [
       "   user_id           event_date   age gender\n",
       "0        0  2015-02-26 00:00:00  51.0      f\n",
       "1        0  2015-03-10 00:00:00  51.0      f\n",
       "2        0  2015-03-30 00:00:00  51.0      f\n",
       "3        0  2015-02-15 00:00:00  51.0      f\n",
       "4        0  2015-02-18 00:00:00  51.0      f"
      ]
     },
     "execution_count": 13,
     "metadata": {},
     "output_type": "execute_result"
    }
   ],
   "source": [
    "s1 = pd.merge(df, df1, how ='left', on=['user_id'])  ## merge casedf and demodf \n",
    "# s1[\"age\"] = \"\" ## create an empty variable age and set it to null\n",
    "s1.head()"
   ]
  },
  {
   "cell_type": "code",
   "execution_count": 14,
   "metadata": {
    "collapsed": false
   },
   "outputs": [
    {
     "data": {
      "image/png": "[encoded data removed]",
      "text/plain": [
       "<matplotlib.figure.Figure at 0x1141eb358>"
      ]
     },
     "metadata": {},
     "output_type": "display_data"
    }
   ],
   "source": [
    "convictage = s1['age'].value_counts()\n",
    "convictage.head()\n",
    "\n",
    "plt.figure(figsize=(14,4))\n",
    "sns.barplot(convictage.index, convictage.values, alpha=0.8, color=color[1])\n",
    "plt.ylabel('No of occurences', fontsize=15)\n",
    "plt.xlabel('Age', fontsize=15)\n",
    "plt.show()\n",
    "\n",
    "\n"
   ]
  },
  {
   "cell_type": "code",
   "execution_count": 17,
   "metadata": {
    "collapsed": false
   },
   "outputs": [
    {
     "data": {
      "text/html": [
       "<div>\n",
       "<table border=\"1\" class=\"dataframe\">\n",
       "  <thead>\n",
       "    <tr>\n",
       "      <th></th>\n",
       "      <th></th>\n",
       "      <th colspan=\"2\" halign=\"left\">age</th>\n",
       "    </tr>\n",
       "    <tr>\n",
       "      <th></th>\n",
       "      <th></th>\n",
       "      <th>mean</th>\n",
       "      <th>count</th>\n",
       "    </tr>\n",
       "    <tr>\n",
       "      <th>user_id</th>\n",
       "      <th>event_date</th>\n",
       "      <th></th>\n",
       "      <th></th>\n",
       "    </tr>\n",
       "  </thead>\n",
       "  <tbody>\n",
       "    <tr>\n",
       "      <th rowspan=\"5\" valign=\"top\">0</th>\n",
       "      <th>2015-01-15 00:00:00</th>\n",
       "      <td>51.0</td>\n",
       "      <td>2</td>\n",
       "    </tr>\n",
       "    <tr>\n",
       "      <th>2015-01-16 00:00:00</th>\n",
       "      <td>51.0</td>\n",
       "      <td>2</td>\n",
       "    </tr>\n",
       "    <tr>\n",
       "      <th>2015-01-17 00:00:00</th>\n",
       "      <td>51.0</td>\n",
       "      <td>3</td>\n",
       "    </tr>\n",
       "    <tr>\n",
       "      <th>2015-01-18 00:00:00</th>\n",
       "      <td>51.0</td>\n",
       "      <td>2</td>\n",
       "    </tr>\n",
       "    <tr>\n",
       "      <th>2015-01-19 00:00:00</th>\n",
       "      <td>51.0</td>\n",
       "      <td>2</td>\n",
       "    </tr>\n",
       "  </tbody>\n",
       "</table>\n",
       "</div>"
      ],
      "text/plain": [
       "                              age      \n",
       "                             mean count\n",
       "user_id event_date                     \n",
       "0       2015-01-15 00:00:00  51.0     2\n",
       "        2015-01-16 00:00:00  51.0     2\n",
       "        2015-01-17 00:00:00  51.0     3\n",
       "        2015-01-18 00:00:00  51.0     2\n",
       "        2015-01-19 00:00:00  51.0     2"
      ]
     },
     "execution_count": 17,
     "metadata": {},
     "output_type": "execute_result"
    }
   ],
   "source": [
    "s2 = s1[['user_id', 'event_date', 'age', 'gender']].groupby(['user_id', 'event_date']).agg(['mean', 'count'])\n",
    "s2.head()"
   ]
  },
  {
   "cell_type": "code",
   "execution_count": 37,
   "metadata": {
    "collapsed": false
   },
   "outputs": [
    {
     "data": {
      "text/html": [
       "<div>\n",
       "<table border=\"1\" class=\"dataframe\">\n",
       "  <thead>\n",
       "    <tr style=\"text-align: right;\">\n",
       "      <th></th>\n",
       "      <th>USER-ID</th>\n",
       "      <th>TOTAL-EVENTS</th>\n",
       "    </tr>\n",
       "  </thead>\n",
       "  <tbody>\n",
       "    <tr>\n",
       "      <th>0</th>\n",
       "      <td>0</td>\n",
       "      <td>148</td>\n",
       "    </tr>\n",
       "    <tr>\n",
       "      <th>1</th>\n",
       "      <td>1</td>\n",
       "      <td>509</td>\n",
       "    </tr>\n",
       "    <tr>\n",
       "      <th>2</th>\n",
       "      <td>2</td>\n",
       "      <td>126</td>\n",
       "    </tr>\n",
       "    <tr>\n",
       "      <th>3</th>\n",
       "      <td>3</td>\n",
       "      <td>65</td>\n",
       "    </tr>\n",
       "    <tr>\n",
       "      <th>4</th>\n",
       "      <td>4</td>\n",
       "      <td>247</td>\n",
       "    </tr>\n",
       "  </tbody>\n",
       "</table>\n",
       "</div>"
      ],
      "text/plain": [
       "   USER-ID  TOTAL-EVENTS\n",
       "0        0           148\n",
       "1        1           509\n",
       "2        2           126\n",
       "3        3            65\n",
       "4        4           247"
      ]
     },
     "execution_count": 37,
     "metadata": {},
     "output_type": "execute_result"
    }
   ],
   "source": [
    " counts = s1.groupby('user_id').size()\n",
    " counts\n",
    " d1f = counts.to_frame().reset_index()\n",
    " d1f.head()\n",
    " d1f = d1f.rename(columns={'user_id': 'USER-ID', 0: 'TOTAL-EVENTS'})\n",
    " d1f.head()\n",
    "# counts_df = pd.DataFrame(df.groupby('user_id').size().rename('counts'))\n",
    "# counts_df.head()\n",
    "# counts_df.column()"
   ]
  },
  {
   "cell_type": "code",
   "execution_count": 42,
   "metadata": {
    "collapsed": false
   },
   "outputs": [
    {
     "data": {
      "text/html": [
       "<div>\n",
       "<table border=\"1\" class=\"dataframe\">\n",
       "  <thead>\n",
       "    <tr style=\"text-align: right;\">\n",
       "      <th></th>\n",
       "      <th>AGE</th>\n",
       "      <th>GENDER</th>\n",
       "      <th>USER-ID</th>\n",
       "    </tr>\n",
       "  </thead>\n",
       "  <tbody>\n",
       "    <tr>\n",
       "      <th>0</th>\n",
       "      <td>51</td>\n",
       "      <td>f</td>\n",
       "      <td>0</td>\n",
       "    </tr>\n",
       "    <tr>\n",
       "      <th>1</th>\n",
       "      <td>49</td>\n",
       "      <td>f</td>\n",
       "      <td>1</td>\n",
       "    </tr>\n",
       "    <tr>\n",
       "      <th>2</th>\n",
       "      <td>35</td>\n",
       "      <td>m</td>\n",
       "      <td>2</td>\n",
       "    </tr>\n",
       "    <tr>\n",
       "      <th>3</th>\n",
       "      <td>63</td>\n",
       "      <td>m</td>\n",
       "      <td>3</td>\n",
       "    </tr>\n",
       "    <tr>\n",
       "      <th>4</th>\n",
       "      <td>27</td>\n",
       "      <td>f</td>\n",
       "      <td>4</td>\n",
       "    </tr>\n",
       "  </tbody>\n",
       "</table>\n",
       "</div>"
      ],
      "text/plain": [
       "   AGE GENDER  USER-ID\n",
       "0   51      f        0\n",
       "1   49      f        1\n",
       "2   35      m        2\n",
       "3   63      m        3\n",
       "4   27      f        4"
      ]
     },
     "execution_count": 42,
     "metadata": {},
     "output_type": "execute_result"
    }
   ],
   "source": [
    "d2f = pd.read_csv(\"/Users/Rishi/Desktop/timeseries_users.csv\") ## \n",
    "# df2.head()\n",
    "d2f = d2f.rename(columns={'age': 'AGE', 'gender': 'GENDER', 'user_id': 'USER-ID'})\n",
    "d2f.head()\n",
    "\n"
   ]
  },
  {
   "cell_type": "code",
   "execution_count": 44,
   "metadata": {
    "collapsed": false
   },
   "outputs": [
    {
     "data": {
      "text/html": [
       "<div>\n",
       "<table border=\"1\" class=\"dataframe\">\n",
       "  <thead>\n",
       "    <tr style=\"text-align: right;\">\n",
       "      <th></th>\n",
       "      <th>USER-ID</th>\n",
       "      <th>TOTAL-EVENTS</th>\n",
       "      <th>AGE</th>\n",
       "      <th>GENDER</th>\n",
       "    </tr>\n",
       "  </thead>\n",
       "  <tbody>\n",
       "    <tr>\n",
       "      <th>0</th>\n",
       "      <td>0</td>\n",
       "      <td>148</td>\n",
       "      <td>51.0</td>\n",
       "      <td>f</td>\n",
       "    </tr>\n",
       "    <tr>\n",
       "      <th>1</th>\n",
       "      <td>1</td>\n",
       "      <td>509</td>\n",
       "      <td>49.0</td>\n",
       "      <td>f</td>\n",
       "    </tr>\n",
       "    <tr>\n",
       "      <th>2</th>\n",
       "      <td>2</td>\n",
       "      <td>126</td>\n",
       "      <td>35.0</td>\n",
       "      <td>m</td>\n",
       "    </tr>\n",
       "    <tr>\n",
       "      <th>3</th>\n",
       "      <td>3</td>\n",
       "      <td>65</td>\n",
       "      <td>63.0</td>\n",
       "      <td>m</td>\n",
       "    </tr>\n",
       "    <tr>\n",
       "      <th>4</th>\n",
       "      <td>4</td>\n",
       "      <td>247</td>\n",
       "      <td>27.0</td>\n",
       "      <td>f</td>\n",
       "    </tr>\n",
       "  </tbody>\n",
       "</table>\n",
       "</div>"
      ],
      "text/plain": [
       "   USER-ID  TOTAL-EVENTS   AGE GENDER\n",
       "0        0           148  51.0      f\n",
       "1        1           509  49.0      f\n",
       "2        2           126  35.0      m\n",
       "3        3            65  63.0      m\n",
       "4        4           247  27.0      f"
      ]
     },
     "execution_count": 44,
     "metadata": {},
     "output_type": "execute_result"
    }
   ],
   "source": [
    "d1 = pd.merge(d1f, d2f, how ='left', on=['USER-ID'])  ## merge casedf and demodf \n",
    "d1.head()\n"
   ]
  },
  {
   "cell_type": "markdown",
   "metadata": {},
   "source": [
    "## Plot a histogram of total number of events per user for all male users who are 30+ years old."
   ]
  },
  {
   "cell_type": "code",
   "execution_count": 52,
   "metadata": {
    "collapsed": false
   },
   "outputs": [
    {
     "data": {
      "text/html": [
       "<div>\n",
       "<table border=\"1\" class=\"dataframe\">\n",
       "  <thead>\n",
       "    <tr style=\"text-align: right;\">\n",
       "      <th></th>\n",
       "      <th>USER-ID</th>\n",
       "      <th>TOTAL-EVENTS</th>\n",
       "      <th>AGE</th>\n",
       "      <th>GENDER</th>\n",
       "    </tr>\n",
       "  </thead>\n",
       "  <tbody>\n",
       "    <tr>\n",
       "      <th>2</th>\n",
       "      <td>2</td>\n",
       "      <td>126</td>\n",
       "      <td>35.0</td>\n",
       "      <td>m</td>\n",
       "    </tr>\n",
       "    <tr>\n",
       "      <th>3</th>\n",
       "      <td>3</td>\n",
       "      <td>65</td>\n",
       "      <td>63.0</td>\n",
       "      <td>m</td>\n",
       "    </tr>\n",
       "    <tr>\n",
       "      <th>12</th>\n",
       "      <td>12</td>\n",
       "      <td>1705</td>\n",
       "      <td>45.0</td>\n",
       "      <td>m</td>\n",
       "    </tr>\n",
       "    <tr>\n",
       "      <th>17</th>\n",
       "      <td>17</td>\n",
       "      <td>147</td>\n",
       "      <td>51.0</td>\n",
       "      <td>m</td>\n",
       "    </tr>\n",
       "    <tr>\n",
       "      <th>21</th>\n",
       "      <td>21</td>\n",
       "      <td>254</td>\n",
       "      <td>41.0</td>\n",
       "      <td>m</td>\n",
       "    </tr>\n",
       "    <tr>\n",
       "      <th>23</th>\n",
       "      <td>23</td>\n",
       "      <td>129</td>\n",
       "      <td>56.0</td>\n",
       "      <td>m</td>\n",
       "    </tr>\n",
       "    <tr>\n",
       "      <th>31</th>\n",
       "      <td>31</td>\n",
       "      <td>271</td>\n",
       "      <td>42.0</td>\n",
       "      <td>m</td>\n",
       "    </tr>\n",
       "    <tr>\n",
       "      <th>33</th>\n",
       "      <td>33</td>\n",
       "      <td>51</td>\n",
       "      <td>52.0</td>\n",
       "      <td>m</td>\n",
       "    </tr>\n",
       "    <tr>\n",
       "      <th>38</th>\n",
       "      <td>38</td>\n",
       "      <td>391</td>\n",
       "      <td>34.0</td>\n",
       "      <td>m</td>\n",
       "    </tr>\n",
       "    <tr>\n",
       "      <th>40</th>\n",
       "      <td>40</td>\n",
       "      <td>10</td>\n",
       "      <td>41.0</td>\n",
       "      <td>m</td>\n",
       "    </tr>\n",
       "    <tr>\n",
       "      <th>45</th>\n",
       "      <td>45</td>\n",
       "      <td>758</td>\n",
       "      <td>39.0</td>\n",
       "      <td>m</td>\n",
       "    </tr>\n",
       "    <tr>\n",
       "      <th>47</th>\n",
       "      <td>47</td>\n",
       "      <td>473</td>\n",
       "      <td>61.0</td>\n",
       "      <td>m</td>\n",
       "    </tr>\n",
       "    <tr>\n",
       "      <th>60</th>\n",
       "      <td>60</td>\n",
       "      <td>208</td>\n",
       "      <td>53.0</td>\n",
       "      <td>m</td>\n",
       "    </tr>\n",
       "    <tr>\n",
       "      <th>64</th>\n",
       "      <td>64</td>\n",
       "      <td>17</td>\n",
       "      <td>62.0</td>\n",
       "      <td>m</td>\n",
       "    </tr>\n",
       "    <tr>\n",
       "      <th>66</th>\n",
       "      <td>66</td>\n",
       "      <td>224</td>\n",
       "      <td>51.0</td>\n",
       "      <td>m</td>\n",
       "    </tr>\n",
       "    <tr>\n",
       "      <th>67</th>\n",
       "      <td>67</td>\n",
       "      <td>100</td>\n",
       "      <td>33.0</td>\n",
       "      <td>m</td>\n",
       "    </tr>\n",
       "    <tr>\n",
       "      <th>71</th>\n",
       "      <td>71</td>\n",
       "      <td>95</td>\n",
       "      <td>42.0</td>\n",
       "      <td>m</td>\n",
       "    </tr>\n",
       "    <tr>\n",
       "      <th>72</th>\n",
       "      <td>72</td>\n",
       "      <td>123</td>\n",
       "      <td>33.0</td>\n",
       "      <td>m</td>\n",
       "    </tr>\n",
       "    <tr>\n",
       "      <th>74</th>\n",
       "      <td>74</td>\n",
       "      <td>349</td>\n",
       "      <td>54.0</td>\n",
       "      <td>m</td>\n",
       "    </tr>\n",
       "    <tr>\n",
       "      <th>78</th>\n",
       "      <td>78</td>\n",
       "      <td>41</td>\n",
       "      <td>35.0</td>\n",
       "      <td>m</td>\n",
       "    </tr>\n",
       "    <tr>\n",
       "      <th>84</th>\n",
       "      <td>84</td>\n",
       "      <td>1947</td>\n",
       "      <td>33.0</td>\n",
       "      <td>m</td>\n",
       "    </tr>\n",
       "    <tr>\n",
       "      <th>89</th>\n",
       "      <td>89</td>\n",
       "      <td>278</td>\n",
       "      <td>37.0</td>\n",
       "      <td>m</td>\n",
       "    </tr>\n",
       "  </tbody>\n",
       "</table>\n",
       "</div>"
      ],
      "text/plain": [
       "    USER-ID  TOTAL-EVENTS   AGE GENDER\n",
       "2         2           126  35.0      m\n",
       "3         3            65  63.0      m\n",
       "12       12          1705  45.0      m\n",
       "17       17           147  51.0      m\n",
       "21       21           254  41.0      m\n",
       "23       23           129  56.0      m\n",
       "31       31           271  42.0      m\n",
       "33       33            51  52.0      m\n",
       "38       38           391  34.0      m\n",
       "40       40            10  41.0      m\n",
       "45       45           758  39.0      m\n",
       "47       47           473  61.0      m\n",
       "60       60           208  53.0      m\n",
       "64       64            17  62.0      m\n",
       "66       66           224  51.0      m\n",
       "67       67           100  33.0      m\n",
       "71       71            95  42.0      m\n",
       "72       72           123  33.0      m\n",
       "74       74           349  54.0      m\n",
       "78       78            41  35.0      m\n",
       "84       84          1947  33.0      m\n",
       "89       89           278  37.0      m"
      ]
     },
     "execution_count": 52,
     "metadata": {},
     "output_type": "execute_result"
    }
   ],
   "source": [
    "d2m = d1[(d1[\"AGE\"] > 30) & (d1[\"GENDER\"] == 'm')]\n",
    "d2m"
   ]
  },
  {
   "cell_type": "code",
   "execution_count": 94,
   "metadata": {
    "collapsed": false
   },
   "outputs": [
    {
     "data": {
      "image/png": "[encoded data removed]",
      "text/plain": [
       "<matplotlib.figure.Figure at 0x1151c32b0>"
      ]
     },
     "metadata": {},
     "output_type": "display_data"
    }
   ],
   "source": [
    "import numpy as np\n",
    "import matplotlib.mlab as mlab\n",
    "import matplotlib.pyplot as plt\n",
    " \n",
    "x = d2m['TOTAL-EVENTS']\n",
    "num_bins = 30\n",
    "n, bins, patches = plt.hist(x, num_bins, facecolor='blue', alpha=0.5)\n",
    "plt.show()\n",
    "\n",
    "## TOTAL-EVENTS - X Label\n",
    "## Frequency - Y Label."
   ]
  },
  {
   "cell_type": "markdown",
   "metadata": {},
   "source": [
    "## Compute the list of inter-event intervals"
   ]
  },
  {
   "cell_type": "code",
   "execution_count": 100,
   "metadata": {
    "collapsed": false
   },
   "outputs": [
    {
     "data": {
      "text/html": [
       "<div>\n",
       "<table border=\"1\" class=\"dataframe\">\n",
       "  <thead>\n",
       "    <tr style=\"text-align: right;\">\n",
       "      <th></th>\n",
       "      <th>user_id</th>\n",
       "      <th>event_date</th>\n",
       "      <th>age</th>\n",
       "      <th>gender</th>\n",
       "      <th>time_f</th>\n",
       "    </tr>\n",
       "  </thead>\n",
       "  <tbody>\n",
       "    <tr>\n",
       "      <th>0</th>\n",
       "      <td>0</td>\n",
       "      <td>2015-02-26 00:00:00</td>\n",
       "      <td>51.0</td>\n",
       "      <td>f</td>\n",
       "      <td>2015-02-26</td>\n",
       "    </tr>\n",
       "    <tr>\n",
       "      <th>1</th>\n",
       "      <td>0</td>\n",
       "      <td>2015-03-10 00:00:00</td>\n",
       "      <td>51.0</td>\n",
       "      <td>f</td>\n",
       "      <td>2015-03-10</td>\n",
       "    </tr>\n",
       "    <tr>\n",
       "      <th>2</th>\n",
       "      <td>0</td>\n",
       "      <td>2015-03-30 00:00:00</td>\n",
       "      <td>51.0</td>\n",
       "      <td>f</td>\n",
       "      <td>2015-03-30</td>\n",
       "    </tr>\n",
       "    <tr>\n",
       "      <th>3</th>\n",
       "      <td>0</td>\n",
       "      <td>2015-02-15 00:00:00</td>\n",
       "      <td>51.0</td>\n",
       "      <td>f</td>\n",
       "      <td>2015-02-15</td>\n",
       "    </tr>\n",
       "    <tr>\n",
       "      <th>4</th>\n",
       "      <td>0</td>\n",
       "      <td>2015-02-18 00:00:00</td>\n",
       "      <td>51.0</td>\n",
       "      <td>f</td>\n",
       "      <td>2015-02-18</td>\n",
       "    </tr>\n",
       "  </tbody>\n",
       "</table>\n",
       "</div>"
      ],
      "text/plain": [
       "   user_id           event_date   age gender     time_f\n",
       "0        0  2015-02-26 00:00:00  51.0      f 2015-02-26\n",
       "1        0  2015-03-10 00:00:00  51.0      f 2015-03-10\n",
       "2        0  2015-03-30 00:00:00  51.0      f 2015-03-30\n",
       "3        0  2015-02-15 00:00:00  51.0      f 2015-02-15\n",
       "4        0  2015-02-18 00:00:00  51.0      f 2015-02-18"
      ]
     },
     "execution_count": 100,
     "metadata": {},
     "output_type": "execute_result"
    }
   ],
   "source": [
    "## we first convert timestamps from string to date / time format and store the value in a new column \"time_f\"\n",
    "from datetime import datetime as dt\n",
    "time_t = lambda x: dt.strptime(x, \"%Y-%m-%d %H:%M:%S\")\n",
    "s1[\"time_f\"] = s1[\"event_date\"].map(time_t)\n",
    "s1.head()"
   ]
  },
  {
   "cell_type": "code",
   "execution_count": 101,
   "metadata": {
    "collapsed": true
   },
   "outputs": [],
   "source": [
    "# we do that again store the value in the new column \"time_i\" and shift the row of 1 step\n",
    "s1[\"time_i\"] = s1[\"event_date\"].map(time_t)\n",
    "s1[\"time_i\"] = s1[\"time_i\"].shift(1)"
   ]
  },
  {
   "cell_type": "code",
   "execution_count": 102,
   "metadata": {
    "collapsed": false
   },
   "outputs": [
    {
     "data": {
      "text/html": [
       "<div>\n",
       "<table border=\"1\" class=\"dataframe\">\n",
       "  <thead>\n",
       "    <tr style=\"text-align: right;\">\n",
       "      <th></th>\n",
       "      <th>user_id</th>\n",
       "      <th>event_date</th>\n",
       "      <th>age</th>\n",
       "      <th>gender</th>\n",
       "      <th>time_f</th>\n",
       "      <th>time_i</th>\n",
       "    </tr>\n",
       "  </thead>\n",
       "  <tbody>\n",
       "    <tr>\n",
       "      <th>0</th>\n",
       "      <td>0</td>\n",
       "      <td>2015-02-26 00:00:00</td>\n",
       "      <td>51.0</td>\n",
       "      <td>f</td>\n",
       "      <td>2015-02-26</td>\n",
       "      <td>NaT</td>\n",
       "    </tr>\n",
       "    <tr>\n",
       "      <th>1</th>\n",
       "      <td>0</td>\n",
       "      <td>2015-03-10 00:00:00</td>\n",
       "      <td>51.0</td>\n",
       "      <td>f</td>\n",
       "      <td>2015-03-10</td>\n",
       "      <td>2015-02-26</td>\n",
       "    </tr>\n",
       "    <tr>\n",
       "      <th>2</th>\n",
       "      <td>0</td>\n",
       "      <td>2015-03-30 00:00:00</td>\n",
       "      <td>51.0</td>\n",
       "      <td>f</td>\n",
       "      <td>2015-03-30</td>\n",
       "      <td>2015-03-10</td>\n",
       "    </tr>\n",
       "    <tr>\n",
       "      <th>3</th>\n",
       "      <td>0</td>\n",
       "      <td>2015-02-15 00:00:00</td>\n",
       "      <td>51.0</td>\n",
       "      <td>f</td>\n",
       "      <td>2015-02-15</td>\n",
       "      <td>2015-03-30</td>\n",
       "    </tr>\n",
       "    <tr>\n",
       "      <th>4</th>\n",
       "      <td>0</td>\n",
       "      <td>2015-02-18 00:00:00</td>\n",
       "      <td>51.0</td>\n",
       "      <td>f</td>\n",
       "      <td>2015-02-18</td>\n",
       "      <td>2015-02-15</td>\n",
       "    </tr>\n",
       "  </tbody>\n",
       "</table>\n",
       "</div>"
      ],
      "text/plain": [
       "   user_id           event_date   age gender     time_f     time_i\n",
       "0        0  2015-02-26 00:00:00  51.0      f 2015-02-26        NaT\n",
       "1        0  2015-03-10 00:00:00  51.0      f 2015-03-10 2015-02-26\n",
       "2        0  2015-03-30 00:00:00  51.0      f 2015-03-30 2015-03-10\n",
       "3        0  2015-02-15 00:00:00  51.0      f 2015-02-15 2015-03-30\n",
       "4        0  2015-02-18 00:00:00  51.0      f 2015-02-18 2015-02-15"
      ]
     },
     "execution_count": 102,
     "metadata": {},
     "output_type": "execute_result"
    }
   ],
   "source": [
    "s1.head()"
   ]
  },
  {
   "cell_type": "code",
   "execution_count": 119,
   "metadata": {
    "collapsed": true
   },
   "outputs": [],
   "source": [
    "\n",
    "# we now define a function to compute the time interval between two timestamps in second and apply it to our dataframe\n",
    "\n",
    "def time_interval(df):\n",
    "    \"\"\"\n",
    "    INPUTS:\n",
    "    - df: dataframe with columns 'time_f' and 'time_i'\n",
    "    \n",
    "    OUTPUTS:\n",
    "    - time in second between the two timestamps 'time_f' and 'time_i'\n",
    "    \"\"\"\n",
    "    return (df[\"time_f\"] - df[\"time_i\"]).total_seconds() ## This can be changed to convert to Days instead of seconds.\n",
    "\n",
    "s1[\"time_interval in Seconds\"] = s1.apply(time_interval, axis=1)\n"
   ]
  },
  {
   "cell_type": "code",
   "execution_count": 120,
   "metadata": {
    "collapsed": false
   },
   "outputs": [
    {
     "data": {
      "text/html": [
       "<div>\n",
       "<table border=\"1\" class=\"dataframe\">\n",
       "  <thead>\n",
       "    <tr style=\"text-align: right;\">\n",
       "      <th></th>\n",
       "      <th>user_id</th>\n",
       "      <th>event_date</th>\n",
       "      <th>age</th>\n",
       "      <th>gender</th>\n",
       "      <th>time_f</th>\n",
       "      <th>time_i</th>\n",
       "      <th>time_interval</th>\n",
       "      <th>time_interval in Seconds</th>\n",
       "    </tr>\n",
       "  </thead>\n",
       "  <tbody>\n",
       "    <tr>\n",
       "      <th>1</th>\n",
       "      <td>0</td>\n",
       "      <td>2015-03-10 00:00:00</td>\n",
       "      <td>51.0</td>\n",
       "      <td>f</td>\n",
       "      <td>2015-03-10</td>\n",
       "      <td>2015-02-26</td>\n",
       "      <td>1036800.0</td>\n",
       "      <td>1036800.0</td>\n",
       "    </tr>\n",
       "    <tr>\n",
       "      <th>2</th>\n",
       "      <td>0</td>\n",
       "      <td>2015-03-30 00:00:00</td>\n",
       "      <td>51.0</td>\n",
       "      <td>f</td>\n",
       "      <td>2015-03-30</td>\n",
       "      <td>2015-03-10</td>\n",
       "      <td>1728000.0</td>\n",
       "      <td>1728000.0</td>\n",
       "    </tr>\n",
       "    <tr>\n",
       "      <th>3</th>\n",
       "      <td>0</td>\n",
       "      <td>2015-02-15 00:00:00</td>\n",
       "      <td>51.0</td>\n",
       "      <td>f</td>\n",
       "      <td>2015-02-15</td>\n",
       "      <td>2015-03-30</td>\n",
       "      <td>-3715200.0</td>\n",
       "      <td>-3715200.0</td>\n",
       "    </tr>\n",
       "    <tr>\n",
       "      <th>4</th>\n",
       "      <td>0</td>\n",
       "      <td>2015-02-18 00:00:00</td>\n",
       "      <td>51.0</td>\n",
       "      <td>f</td>\n",
       "      <td>2015-02-18</td>\n",
       "      <td>2015-02-15</td>\n",
       "      <td>259200.0</td>\n",
       "      <td>259200.0</td>\n",
       "    </tr>\n",
       "    <tr>\n",
       "      <th>5</th>\n",
       "      <td>0</td>\n",
       "      <td>2015-02-22 00:00:00</td>\n",
       "      <td>51.0</td>\n",
       "      <td>f</td>\n",
       "      <td>2015-02-22</td>\n",
       "      <td>2015-02-18</td>\n",
       "      <td>345600.0</td>\n",
       "      <td>345600.0</td>\n",
       "    </tr>\n",
       "  </tbody>\n",
       "</table>\n",
       "</div>"
      ],
      "text/plain": [
       "   user_id           event_date   age gender     time_f     time_i  \\\n",
       "1        0  2015-03-10 00:00:00  51.0      f 2015-03-10 2015-02-26   \n",
       "2        0  2015-03-30 00:00:00  51.0      f 2015-03-30 2015-03-10   \n",
       "3        0  2015-02-15 00:00:00  51.0      f 2015-02-15 2015-03-30   \n",
       "4        0  2015-02-18 00:00:00  51.0      f 2015-02-18 2015-02-15   \n",
       "5        0  2015-02-22 00:00:00  51.0      f 2015-02-22 2015-02-18   \n",
       "\n",
       "   time_interval  time_interval in Seconds  \n",
       "1      1036800.0                 1036800.0  \n",
       "2      1728000.0                 1728000.0  \n",
       "3     -3715200.0                -3715200.0  \n",
       "4       259200.0                  259200.0  \n",
       "5       345600.0                  345600.0  "
      ]
     },
     "execution_count": 120,
     "metadata": {},
     "output_type": "execute_result"
    }
   ],
   "source": [
    "s1.head()"
   ]
  },
  {
   "cell_type": "code",
   "execution_count": 123,
   "metadata": {
    "collapsed": false
   },
   "outputs": [
    {
     "data": {
      "image/png": "[encoded data removed]",
      "text/plain": [
       "<matplotlib.figure.Figure at 0x119a2fdd8>"
      ]
     },
     "metadata": {},
     "output_type": "display_data"
    }
   ],
   "source": [
    "import numpy as np\n",
    "import matplotlib.mlab as mlab\n",
    "import matplotlib.pyplot as plt\n",
    " \n",
    "x = s1['time_interval in Seconds']\n",
    "num_bins = 30\n",
    "n, bins, patches = plt.hist(x, num_bins, facecolor='blue', alpha=0.5)\n",
    "plt.show()\n",
    "\n",
    "## Time Interval in Seconds - X Label\n",
    "## Frequency - Y Label."
   ]
  },
  {
   "cell_type": "code",
   "execution_count": 114,
   "metadata": {
    "collapsed": false
   },
   "outputs": [],
   "source": [
    "# # normalized histogram\n",
    "# sns.set_style(\"whitegrid\")\n",
    "# sns.set_context(\"paper\", rc=c)\n",
    "\n",
    "# fig = plt.figure(figsize=(10, 20))\n",
    "\n",
    "# bins = np.linspace(0, 600000, 30)\n",
    "\n",
    "# for j in range(5):\n",
    "#     ax = plt.subplot2grid((5, 1), (j, 0))\n",
    "#     i = s1[j]\n",
    "#     events_i = s1[s1.user_id == i]\n",
    "#     s1[\"time_f\"] = s1[\"timestamp\"].map(time_t)\n",
    "#     s1[\"time_i\"] = s1[\"timestamp\"].map(time_t)\n",
    "#     s1[\"time_i\"] = s1[\"time_i\"].shift(1)\n",
    "#     s1[\"time_interval\"] = s1.apply(time_interval, axis=1)\n",
    "#     s1 = s1.dropna()\n",
    "#     time_int_i = s1[\"time_interval\"].values\n",
    "#     h = ax.hist(time_int_i, bins, normed=1, label=str(i), alpha=0.5)\n",
    "#     ax.legend()\n",
    "#     ax.set_xlabel(\"time in s\")\n",
    "#     ax.set_ylim([0., 0.00003])\n",
    "\n",
    "# fig.tight_layout()"
   ]
  },
  {
   "cell_type": "code",
   "execution_count": null,
   "metadata": {
    "collapsed": true
   },
   "outputs": [],
   "source": []
  }
 ],
 "metadata": {
  "kernelspec": {
   "display_name": "Python [default]",
   "language": "python",
   "name": "python3"
  },
  "language_info": {
   "codemirror_mode": {
    "name": "ipython",
    "version": 3
   },
   "file_extension": ".py",
   "mimetype": "text/x-python",
   "name": "python",
   "nbconvert_exporter": "python",
   "pygments_lexer": "ipython3",
   "version": "3.5.2"
  }
 },
 "nbformat": 4,
 "nbformat_minor": 2
}
